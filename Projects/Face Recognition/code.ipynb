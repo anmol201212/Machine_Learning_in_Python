{
 "cells": [
  {
   "cell_type": "code",
   "execution_count": 1,
   "metadata": {},
   "outputs": [],
   "source": [
    "import cv2\n",
    "import numpy as np\n",
    "import os"
   ]
  },
  {
   "cell_type": "markdown",
   "metadata": {},
   "source": [
    " Recognise Faces using some classification algorithm - like Logistic, KNN, SVM etc.\n",
    "\n",
    "\n",
    " 1. load the training data (numpy arrays of all the persons)\n",
    "\t\t x- values are stored in the numpy arrays\n",
    "\t\t y-values we need to assign for each person\n",
    " 2. Read a video stream using opencv\n",
    " 3. extract faces out of it\n",
    " 4. use knn to find the prediction of face (int)\n",
    " 5. map the predicted id to name of the user \n",
    " 6. Display the predictions on the screen - bounding box and name\n"
   ]
  },
  {
   "cell_type": "code",
   "execution_count": 14,
   "metadata": {},
   "outputs": [],
   "source": [
    "## KNN Code\n",
    "def distance(v1,v2):\n",
    "    return np.sqrt(((v1-v2)**2).sum())\n",
    "\n",
    "def knn(train,test,k=5):\n",
    "\n",
    "    dist = []\n",
    "\n",
    "    for i in range(train.shape[0]):\n",
    "        # Get the vector and label\n",
    "        ix = train[i,:-1]\n",
    "        iy = train[i,-1]\n",
    "\n",
    "        # Compute the distance from test point\n",
    "        d = distance(test,ix)\n",
    "        dist.append([d,iy])\n",
    "\n",
    "    # sort based on distance and get top k\n",
    "    dk = sorted(dist,key=lambda x:x[0])[:k]\n",
    "\n",
    "    # Retrieve only the labels\n",
    "    labels = np.array(dk)[:,-1]\n",
    "\n",
    "    # Get frequencies of each label\n",
    "    output = np.unique(labels, return_counts=True)\n",
    "\n",
    "    # Find max frequency and corresponding label\n",
    "    index = np.argmax(output[1])\n",
    "    return output[0][index]\n"
   ]
  },
  {
   "cell_type": "code",
   "execution_count": null,
   "metadata": {},
   "outputs": [],
   "source": []
  },
  {
   "cell_type": "code",
   "execution_count": 27,
   "metadata": {},
   "outputs": [
    {
     "name": "stdout",
     "output_type": "stream",
     "text": [
      "Loaded anm.npy\n",
      "Loaded anmoll.npy\n",
      "(36, 30000)\n",
      "(36, 1)\n",
      "(36, 30001)\n"
     ]
    }
   ],
   "source": [
    "#Init Camera\n",
    "cap = cv2.VideoCapture(0)\n",
    "\n",
    "# Face Detection\n",
    "face_cascade = cv2.CascadeClassifier(\"haarcascade_frontalface_alt.xml\")\n",
    "\n",
    "skip = 0\n",
    "dataset_path = './Images/'\n",
    "\n",
    "face_data = [] \n",
    "labels = []\n",
    "\n",
    "class_id = 0 # Labels for the given file\n",
    "names = {} #Mapping btw id - name\n",
    "\n",
    "\n",
    "# Data Preparation\n",
    "for fx in os.listdir(dataset_path):\n",
    "\tif fx.endswith('.npy'):\n",
    "\t\t#Create a mapping btw class_id and name\n",
    "\t\tnames[class_id] = fx[:-4]\n",
    "\t\tprint(\"Loaded \"+fx)\n",
    "\t\tdata_item = np.load(dataset_path+fx)\n",
    "\t\tface_data.append(data_item)\n",
    "\n",
    "\t\t#Create Labels for the class\n",
    "\t\ttarget = class_id*np.ones((data_item.shape[0],))\n",
    "\t\tclass_id += 1\n",
    "\t\tlabels.append(target)\n",
    "\n",
    "face_dataset = np.concatenate(face_data,axis=0)\n",
    "face_labels = np.concatenate(labels,axis=0).reshape((-1,1))\n",
    "\n",
    "print(face_dataset.shape)\n",
    "print(face_labels.shape)\n",
    "\n",
    "trainset = np.concatenate((face_dataset,face_labels),axis=1)\n",
    "print(trainset.shape)\n",
    "\n",
    "# Testing \n",
    "\n",
    "while True:\n",
    "\tret,frame = cap.read()\n",
    "\tif ret == False:\n",
    "\t\tcontinue\n",
    "\n",
    "\tfaces = face_cascade.detectMultiScale(frame,1.3,5)\n",
    "\tif(len(faces)==0):\n",
    "\t\tcontinue\n",
    "\n",
    "\tfor face in faces:\n",
    "\t\tx,y,w,h = face\n",
    "\n",
    "\t\t#Get the face ROI\n",
    "\t\toffset = 10\n",
    "\t\tface_section = frame[y-offset:y+h+offset,x-offset:x+w+offset]\n",
    "\t\tface_section = cv2.resize(face_section,(100,100))\n",
    "\n",
    "\t\t#Predicted Label (out)\n",
    "\t\tout = knn(trainset,face_section.flatten())\n",
    "\n",
    "\t\t#Display on the screen the name and rectangle around it\n",
    "\t\tpred_name = names[int(out)]\n",
    "\t\tcv2.putText(frame,pred_name,(x,y-10),cv2.FONT_HERSHEY_SIMPLEX,1,(255,0,0),2,cv2.LINE_AA)\n",
    "\t\tcv2.rectangle(frame,(x,y),(x+w,y+h),(0,255,255),2)\n",
    "\n",
    "\tcv2.imshow(\"Faces\",frame)\n",
    "\n",
    "\tkey = cv2.waitKey(1) & 0xFF\n",
    "\tif key==ord('q'):\n",
    "\t\tbreak\n",
    "\n",
    "cap.release()\n",
    "cv2.destroyAllWindows()\n"
   ]
  },
  {
   "cell_type": "code",
   "execution_count": null,
   "metadata": {},
   "outputs": [],
   "source": []
  }
 ],
 "metadata": {
  "kernelspec": {
   "display_name": "Python 3",
   "language": "python",
   "name": "python3"
  },
  "language_info": {
   "codemirror_mode": {
    "name": "ipython",
    "version": 3
   },
   "file_extension": ".py",
   "mimetype": "text/x-python",
   "name": "python",
   "nbconvert_exporter": "python",
   "pygments_lexer": "ipython3",
   "version": "3.11.4"
  }
 },
 "nbformat": 4,
 "nbformat_minor": 2
}
