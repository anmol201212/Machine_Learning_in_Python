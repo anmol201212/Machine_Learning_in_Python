{
 "cells": [
  {
   "cell_type": "code",
   "execution_count": null,
   "metadata": {},
   "outputs": [],
   "source": []
  },
  {
   "cell_type": "markdown",
   "metadata": {},
   "source": [
    "### NLTK"
   ]
  },
  {
   "cell_type": "code",
   "execution_count": 10,
   "metadata": {},
   "outputs": [],
   "source": [
    "from nltk.tokenize import RegexpTokenizer\n",
    "from nltk.stem.porter import PorterStemmer\n",
    "from nltk.corpus import stopwords\n",
    "import sys"
   ]
  },
  {
   "cell_type": "code",
   "execution_count": 11,
   "metadata": {},
   "outputs": [],
   "source": [
    "# init Objects\n",
    "tokenizer = RegexpTokenizer(r'\\b\\w+\\b')\n",
    "en_stopwords = set(stopwords.words('english'))\n",
    "ps = PorterStemmer()"
   ]
  },
  {
   "cell_type": "code",
   "execution_count": 12,
   "metadata": {},
   "outputs": [],
   "source": [
    "def getStemmedReview(review):\n",
    "    review = review.lower()\n",
    "    review = review.replace(\"<br /><br>\",\" \")\n",
    "\n",
    "    #tokenize\n",
    "    tokens = tokenizer.tokenize(review)\n",
    "    new_tokens = [token for token in tokens if token not in en_stopwords]\n",
    "    stemmed_tokens = [ps.stem(token) for token in new_tokens]\n",
    "\n",
    "    cleaned_review = ' '.join(stemmed_tokens)\n",
    "\n",
    "    return cleaned_review"
   ]
  },
  {
   "cell_type": "code",
   "execution_count": 13,
   "metadata": {},
   "outputs": [],
   "source": [
    "# Accepts input file and returns clean output file of moview reviews\n",
    "def getStemmedDocument(inputfile,outputfile):\n",
    "    out = open(outputfile,'w',encoding=\"utf8\")\n",
    "\n",
    "    with open(inputfile,encoding=\"utf8\") as f:\n",
    "        reviews = f.readlines()\n",
    "\n",
    "    for review in reviews:\n",
    "        cleaned_review = getStemmedReview(review)\n",
    "        print((cleaned_review),file=out)\n",
    "\n",
    "    out.close()\n"
   ]
  },
  {
   "cell_type": "code",
   "execution_count": 15,
   "metadata": {},
   "outputs": [],
   "source": [
    "inputfile = '/workspaces/Machine_Learning_in_Python/Projects/Movie Review Classification/IMDB/imdb_trainX.txt'\n",
    "outputfile = '/workspaces/Machine_Learning_in_Python/Projects/Movie Review Classification/IMDB/imdb_trainX_output.txt'\n",
    "getStemmedDocument(inputfile,outputfile)"
   ]
  },
  {
   "cell_type": "code",
   "execution_count": null,
   "metadata": {},
   "outputs": [],
   "source": []
  }
 ],
 "metadata": {
  "kernelspec": {
   "display_name": "Python 3",
   "language": "python",
   "name": "python3"
  },
  "language_info": {
   "codemirror_mode": {
    "name": "ipython",
    "version": 3
   },
   "file_extension": ".py",
   "mimetype": "text/x-python",
   "name": "python",
   "nbconvert_exporter": "python",
   "pygments_lexer": "ipython3",
   "version": "3.10.13"
  }
 },
 "nbformat": 4,
 "nbformat_minor": 2
}
