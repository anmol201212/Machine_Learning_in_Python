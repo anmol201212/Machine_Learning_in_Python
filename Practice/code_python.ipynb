{
 "cells": [
  {
   "cell_type": "code",
   "execution_count": 14,
   "metadata": {},
   "outputs": [],
   "source": [
    "x = [3,5,6,89,0,32,1,12]"
   ]
  },
  {
   "cell_type": "code",
   "execution_count": 15,
   "metadata": {},
   "outputs": [
    {
     "data": {
      "text/plain": [
       "[3, 5, 6, 89, 0, 32, 1, 12]"
      ]
     },
     "execution_count": 15,
     "metadata": {},
     "output_type": "execute_result"
    }
   ],
   "source": [
    "x"
   ]
  },
  {
   "cell_type": "code",
   "execution_count": 16,
   "metadata": {},
   "outputs": [
    {
     "name": "stdout",
     "output_type": "stream",
     "text": [
      "3\n",
      "5\n",
      "6\n",
      "89\n",
      "0\n",
      "32\n",
      "1\n",
      "12\n"
     ]
    }
   ],
   "source": [
    "for val in x:\n",
    "    print(val)"
   ]
  },
  {
   "cell_type": "code",
   "execution_count": 17,
   "metadata": {},
   "outputs": [
    {
     "name": "stdout",
     "output_type": "stream",
     "text": [
      "6\n",
      "10\n",
      "12\n",
      "178\n",
      "0\n",
      "64\n",
      "2\n",
      "24\n"
     ]
    }
   ],
   "source": [
    "for val in x:\n",
    "    print(val*2)"
   ]
  },
  {
   "cell_type": "code",
   "execution_count": 18,
   "metadata": {},
   "outputs": [
    {
     "name": "stdout",
     "output_type": "stream",
     "text": [
      "0\n",
      "1\n",
      "2\n",
      "3\n",
      "4\n",
      "5\n",
      "6\n",
      "7\n",
      "8\n",
      "9\n"
     ]
    }
   ],
   "source": [
    "for i in range(10):\n",
    "    print(i)"
   ]
  },
  {
   "cell_type": "code",
   "execution_count": 19,
   "metadata": {},
   "outputs": [
    {
     "name": "stdout",
     "output_type": "stream",
     "text": [
      "4\n",
      "6\n",
      "8\n",
      "10\n",
      "12\n",
      "14\n",
      "16\n",
      "18\n"
     ]
    }
   ],
   "source": [
    "for i in range(2,10):\n",
    "    print(i*2)"
   ]
  },
  {
   "cell_type": "code",
   "execution_count": 20,
   "metadata": {},
   "outputs": [
    {
     "name": "stdout",
     "output_type": "stream",
     "text": [
      "0\n",
      "5\n",
      "10\n",
      "15\n",
      "20\n",
      "25\n",
      "30\n",
      "35\n",
      "40\n",
      "45\n",
      "50\n",
      "55\n",
      "60\n",
      "65\n",
      "70\n",
      "75\n",
      "80\n",
      "85\n",
      "90\n",
      "95\n"
     ]
    }
   ],
   "source": [
    "for i in range(0,100,5):\n",
    "    print(i)"
   ]
  },
  {
   "cell_type": "code",
   "execution_count": 21,
   "metadata": {},
   "outputs": [
    {
     "name": "stdout",
     "output_type": "stream",
     "text": [
      "Even number: 0\n",
      "Odd number:  1\n",
      "Even number: 2\n",
      "Odd number:  3\n",
      "Even number: 4\n",
      "Odd number:  5\n",
      "Even number: 6\n",
      "Odd number:  7\n",
      "Even number: 8\n",
      "Odd number:  9\n",
      "Even number: 10\n",
      "Odd number:  11\n",
      "Even number: 12\n",
      "Odd number:  13\n",
      "Even number: 14\n",
      "Odd number:  15\n",
      "Even number: 16\n",
      "Odd number:  17\n",
      "Even number: 18\n",
      "Odd number:  19\n",
      "Even number: 20\n",
      "Odd number:  21\n",
      "Even number: 22\n",
      "Odd number:  23\n",
      "Even number: 24\n",
      "Odd number:  25\n",
      "Even number: 26\n",
      "Odd number:  27\n",
      "Even number: 28\n",
      "Odd number:  29\n",
      "Even number: 30\n",
      "Odd number:  31\n",
      "Even number: 32\n",
      "Odd number:  33\n",
      "Even number: 34\n",
      "Odd number:  35\n",
      "Even number: 36\n",
      "Odd number:  37\n",
      "Even number: 38\n",
      "Odd number:  39\n",
      "Even number: 40\n",
      "Odd number:  41\n",
      "Even number: 42\n",
      "Odd number:  43\n",
      "Even number: 44\n",
      "Odd number:  45\n",
      "Even number: 46\n",
      "Odd number:  47\n",
      "Even number: 48\n",
      "Odd number:  49\n",
      "Even number: 50\n",
      "Odd number:  51\n",
      "Even number: 52\n",
      "Odd number:  53\n",
      "Even number: 54\n",
      "Odd number:  55\n",
      "Even number: 56\n",
      "Odd number:  57\n",
      "Even number: 58\n",
      "Odd number:  59\n",
      "Even number: 60\n",
      "Odd number:  61\n",
      "Even number: 62\n",
      "Odd number:  63\n",
      "Even number: 64\n",
      "Odd number:  65\n",
      "Even number: 66\n",
      "Odd number:  67\n",
      "Even number: 68\n",
      "Odd number:  69\n",
      "Even number: 70\n",
      "Odd number:  71\n",
      "Even number: 72\n",
      "Odd number:  73\n",
      "Even number: 74\n",
      "Odd number:  75\n",
      "Even number: 76\n",
      "Odd number:  77\n",
      "Even number: 78\n",
      "Odd number:  79\n",
      "Even number: 80\n",
      "Odd number:  81\n",
      "Even number: 82\n",
      "Odd number:  83\n",
      "Even number: 84\n",
      "Odd number:  85\n",
      "Even number: 86\n",
      "Odd number:  87\n",
      "Even number: 88\n",
      "Odd number:  89\n",
      "Even number: 90\n",
      "Odd number:  91\n",
      "Even number: 92\n",
      "Odd number:  93\n",
      "Even number: 94\n",
      "Odd number:  95\n",
      "Even number: 96\n",
      "Odd number:  97\n",
      "Even number: 98\n",
      "Odd number:  99\n"
     ]
    }
   ],
   "source": [
    "# Even & Odd\n",
    "\n",
    "for i in range(0,100):\n",
    "    if i%2 == 0:\n",
    "        print(\"Even number:\",i)\n",
    "    else:\n",
    "        print(\"Odd number: \",i)"
   ]
  },
  {
   "cell_type": "code",
   "execution_count": 22,
   "metadata": {},
   "outputs": [
    {
     "name": "stdout",
     "output_type": "stream",
     "text": [
      "0 , 10\n",
      "0 , 11\n",
      "0 , 12\n",
      "0 , 13\n",
      "0 , 14\n",
      "1 , 10\n",
      "1 , 11\n",
      "1 , 12\n",
      "1 , 13\n",
      "1 , 14\n",
      "2 , 10\n",
      "2 , 11\n",
      "2 , 12\n",
      "2 , 13\n",
      "2 , 14\n"
     ]
    }
   ],
   "source": [
    "for num1 in range(3):\n",
    "    for num2 in range(10,15):\n",
    "        print(num1,\",\",num2)"
   ]
  },
  {
   "cell_type": "code",
   "execution_count": 23,
   "metadata": {},
   "outputs": [
    {
     "name": "stdout",
     "output_type": "stream",
     "text": [
      "0\n",
      "1\n",
      "2\n",
      "3\n"
     ]
    }
   ],
   "source": [
    "y=0\n",
    "while (y<4):\n",
    "    print(y)\n",
    "    y=y+1"
   ]
  },
  {
   "cell_type": "code",
   "execution_count": 24,
   "metadata": {},
   "outputs": [
    {
     "name": "stdout",
     "output_type": "stream",
     "text": [
      "[10, 20]\n",
      "[9, 18]\n",
      "[8, 16]\n",
      "[7, 14]\n",
      "[6, 12]\n",
      "[5, 10]\n",
      "[4, 8]\n",
      "[3, 6]\n",
      "[2, 4]\n",
      "[1, 2]\n"
     ]
    }
   ],
   "source": [
    "i = 10\n",
    "j = 20\n",
    "while i>0 and j>0:\n",
    "    print([i,j])\n",
    "    i-=1\n",
    "    j-=2"
   ]
  },
  {
   "cell_type": "code",
   "execution_count": 25,
   "metadata": {},
   "outputs": [
    {
     "name": "stdout",
     "output_type": "stream",
     "text": [
      "[1, 4, 9, 16]\n"
     ]
    }
   ],
   "source": [
    "x = [1,2,3,4]\n",
    "out = []\n",
    "for item in x:\n",
    "    out.append(item**2)\n",
    "print(out)"
   ]
  },
  {
   "cell_type": "code",
   "execution_count": 26,
   "metadata": {},
   "outputs": [
    {
     "data": {
      "text/plain": [
       "[1, 4, 9, 16]"
      ]
     },
     "execution_count": 26,
     "metadata": {},
     "output_type": "execute_result"
    }
   ],
   "source": [
    "[item**2 for item in x]"
   ]
  },
  {
   "cell_type": "code",
   "execution_count": 27,
   "metadata": {},
   "outputs": [
    {
     "name": "stdout",
     "output_type": "stream",
     "text": [
      "200\n"
     ]
    }
   ],
   "source": [
    "def clc(x,y):\n",
    "    return x*y\n",
    "print(clc(10,20))"
   ]
  },
  {
   "cell_type": "code",
   "execution_count": 28,
   "metadata": {},
   "outputs": [
    {
     "name": "stdout",
     "output_type": "stream",
     "text": [
      "2000\n"
     ]
    }
   ],
   "source": [
    "calc = lambda x,y: x*y\n",
    "print(calc(10,200))"
   ]
  },
  {
   "cell_type": "code",
   "execution_count": 29,
   "metadata": {},
   "outputs": [
    {
     "data": {
      "text/plain": [
       "[4, 8, 12, 16, 18]"
      ]
     },
     "execution_count": 29,
     "metadata": {},
     "output_type": "execute_result"
    }
   ],
   "source": [
    "x = [2,4,6,8,9]\n",
    "list(map(lambda v:v*2,x))"
   ]
  },
  {
   "cell_type": "code",
   "execution_count": 30,
   "metadata": {},
   "outputs": [
    {
     "data": {
      "text/plain": [
       "[True, True, True, True, False]"
      ]
     },
     "execution_count": 30,
     "metadata": {},
     "output_type": "execute_result"
    }
   ],
   "source": [
    "x = [2,4,6,8,9]\n",
    "list(map(lambda v:v%2==0,x))"
   ]
  },
  {
   "cell_type": "code",
   "execution_count": 31,
   "metadata": {},
   "outputs": [
    {
     "data": {
      "text/plain": [
       "[2, 4, 6, 8]"
      ]
     },
     "execution_count": 31,
     "metadata": {},
     "output_type": "execute_result"
    }
   ],
   "source": [
    "x = [2,4,6,8,9]\n",
    "list(filter(lambda v:v%2==0,x))"
   ]
  },
  {
   "cell_type": "code",
   "execution_count": 32,
   "metadata": {},
   "outputs": [
    {
     "data": {
      "text/plain": [
       "' My name is Anmol'"
      ]
     },
     "execution_count": 32,
     "metadata": {},
     "output_type": "execute_result"
    }
   ],
   "source": [
    "X = \" My name is Anmol\"\n",
    "X"
   ]
  },
  {
   "cell_type": "code",
   "execution_count": 33,
   "metadata": {},
   "outputs": [
    {
     "data": {
      "text/plain": [
       "' my name is anmol'"
      ]
     },
     "execution_count": 33,
     "metadata": {},
     "output_type": "execute_result"
    }
   ],
   "source": [
    "X.lower()"
   ]
  },
  {
   "cell_type": "code",
   "execution_count": 34,
   "metadata": {},
   "outputs": [
    {
     "data": {
      "text/plain": [
       "' MY NAME IS ANMOL'"
      ]
     },
     "execution_count": 34,
     "metadata": {},
     "output_type": "execute_result"
    }
   ],
   "source": [
    "X.upper()"
   ]
  },
  {
   "cell_type": "code",
   "execution_count": 35,
   "metadata": {},
   "outputs": [
    {
     "data": {
      "text/plain": [
       "['My', 'name', 'is', 'Anmol']"
      ]
     },
     "execution_count": 35,
     "metadata": {},
     "output_type": "execute_result"
    }
   ],
   "source": [
    "X.split()"
   ]
  },
  {
   "cell_type": "code",
   "execution_count": null,
   "metadata": {},
   "outputs": [],
   "source": [
    "d = {'key1': 'item',''}"
   ]
  }
 ],
 "metadata": {
  "kernelspec": {
   "display_name": "Python 3",
   "language": "python",
   "name": "python3"
  },
  "language_info": {
   "codemirror_mode": {
    "name": "ipython",
    "version": 3
   },
   "file_extension": ".py",
   "mimetype": "text/x-python",
   "name": "python",
   "nbconvert_exporter": "python",
   "pygments_lexer": "ipython3",
   "version": "3.11.4"
  },
  "orig_nbformat": 4
 },
 "nbformat": 4,
 "nbformat_minor": 2
}
